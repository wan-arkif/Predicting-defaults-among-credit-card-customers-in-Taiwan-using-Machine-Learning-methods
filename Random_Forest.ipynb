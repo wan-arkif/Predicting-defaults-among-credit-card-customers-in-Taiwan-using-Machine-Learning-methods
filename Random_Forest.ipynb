{
 "cells": [
  {
   "cell_type": "markdown",
   "id": "7f00ca1b-f8b2-4011-81be-5a5794adc9b8",
   "metadata": {},
   "source": [
    "# ทำนายโอกาสการผิดนัดชำระหนี้ของลูกค้าบัตรเครดิตในไต้หวันโดยโมเดล Random Forest"
   ]
  },
  {
   "cell_type": "code",
   "execution_count": 61,
   "id": "91ffe5ad-b926-48de-a57a-00e41e1715ad",
   "metadata": {},
   "outputs": [],
   "source": [
    "import pandas as pd\n",
    "import numpy as np \n",
    "from sklearn.model_selection import train_test_split\n",
    "from sklearn.tree import DecisionTreeClassifier\n",
    "from sklearn.ensemble import RandomForestClassifier\n",
    "from sklearn.model_selection import GridSearchCV\n",
    "from sklearn.metrics import classification_report,confusion_matrix"
   ]
  },
  {
   "cell_type": "code",
   "execution_count": 63,
   "id": "161fa733-4ee0-492f-975e-bc3c30a2b209",
   "metadata": {},
   "outputs": [],
   "source": [
    "from sklearn.preprocessing import StandardScaler"
   ]
  },
  {
   "cell_type": "code",
   "execution_count": 65,
   "id": "d044630e-b0d1-4d8d-a2ee-c855ee886e97",
   "metadata": {},
   "outputs": [],
   "source": [
    "from sklearn.metrics import recall_score"
   ]
  },
  {
   "cell_type": "code",
   "execution_count": 67,
   "id": "b569a726-ac7c-48e0-8e26-b946ce4056ac",
   "metadata": {},
   "outputs": [],
   "source": [
    "from sklearn.datasets import make_classification"
   ]
  },
  {
   "cell_type": "code",
   "execution_count": 69,
   "id": "1e5cffca-d3e8-4fea-b05c-5f3424bf4f5e",
   "metadata": {},
   "outputs": [],
   "source": [
    "from sklearn.model_selection import cross_val_score"
   ]
  },
  {
   "cell_type": "code",
   "execution_count": 71,
   "id": "ea0538b7-4f24-4e71-9f34-21d5bde1b482",
   "metadata": {},
   "outputs": [],
   "source": [
    "import optuna"
   ]
  },
  {
   "cell_type": "code",
   "execution_count": 73,
   "id": "5164a0d5-d738-433d-8f87-c2ad065a0b8b",
   "metadata": {},
   "outputs": [],
   "source": [
    "import matplotlib.pyplot as plt"
   ]
  },
  {
   "cell_type": "code",
   "execution_count": 75,
   "id": "c0b6c5ef-944f-456f-ba0a-bc723a370f71",
   "metadata": {},
   "outputs": [],
   "source": [
    "from sklearn.metrics import accuracy_score"
   ]
  },
  {
   "cell_type": "code",
   "execution_count": 95,
   "id": "feeff4c1-19ec-4142-8b1c-61dc9d2e6112",
   "metadata": {},
   "outputs": [],
   "source": [
    "from imblearn.combine import SMOTEENN "
   ]
  },
  {
   "cell_type": "code",
   "execution_count": 99,
   "id": "33a0275f-ec2c-4801-bd0e-1f66fb858918",
   "metadata": {},
   "outputs": [],
   "source": [
    "from collections import Counter"
   ]
  },
  {
   "cell_type": "markdown",
   "id": "00d3339f-7d3f-469b-89e5-e72c61568c8a",
   "metadata": {},
   "source": [
    "# 1. จัดเตรียมข้อมูลเพื่อใช้ในการวิเคราะห์"
   ]
  },
  {
   "cell_type": "code",
   "execution_count": 77,
   "id": "5c7181bb-f866-48b4-bd6a-e7eabf6c6484",
   "metadata": {},
   "outputs": [],
   "source": [
    "df = pd.read_csv('/Users/1hundredeyes/default_of_credit_card_clients(1).csv')"
   ]
  },
  {
   "cell_type": "markdown",
   "id": "3541d25e-8bf2-4e15-8e89-c68a0e507022",
   "metadata": {},
   "source": [
    "ID: รหัสของลูกค้าแต่ละราย\n",
    "\n",
    "LIMIT_BAL: วงเงินบัตรเครดิต(ดอลลาร์ไต้หวันใหม่); (รวมถึงสินเชื่อส่วนบุคคลและครอบครัว/เครดิตเสริม)\n",
    "\n",
    "SEX: เพศ (1 = ชาย, 2 = หญิง)\n",
    "\n",
    "EDUCATION: (1 = บัณฑิตวิทยาลัย, 2 = มหาวิทยาลัย, 3 = มัธยมปลาย, 4 = อื่นๆ, 0 = ไม่ทราบค่า, 5 = ไม่ทราบค่า, 6 = ไม่ทราบค่า)\n",
    "\n",
    "MARRIAGE: Marital status (1 = แต่งงานแล้ว, 2 = โสด, 3 = อื่นๆ, 0 = ไม่ทราบค่า)\n",
    "\n",
    "AGE: อายุ(ปี)\n",
    "\n",
    "PAY_0: สถานะการชำระคืนในเดือนกันยายน พ.ศ. 2548 (-2 = ไม่มีการเคลื่องไหว, -1 = ชำระตามกำหนด, 0 = การใช้เครดิตหมุนเวียน(ชำระขั้นต่ำเท่านั้น), 1 = การชำระเงินล่าช้าเป็นเวลาหนึ่งเดือน, 2 = การชำระเงินล่าช้าเป็นเวลาสองเดือน, ... 8 = การชำระเงินล่าช้าเป็นเวลาแปดเดือน, 9 = การชำระเงินล่าช้าเป็นเวลาเก้าเดือน)\n",
    "\n",
    "PAY_2: สถานะการชำระคืนในเดือนสิงหาคม พ.ศ. 2548 (ขนาดเช่นเดียวกับข้างต้น)\n",
    "\n",
    "PAY_3: สถานะการชำระคืนในเดือนกรกฎาคม พ.ศ. 2548 (ขนาดเช่นเดียวกับข้างต้น)\n",
    "\n",
    "PAY_4: สถานะการชำระคืนในเดือนมิถุนายน พ.ศ. 2548 (ขนาดเช่นเดียวกับข้างต้น)\n",
    "\n",
    "PAY_5: สถานะการชำระคืนในเดือนพฤษภาคม พ.ศ. 2548 (ขนาดเช่นเดียวกับข้างต้น)\n",
    "\n",
    "PAY_6: สถานะการชำระคืนในเดือนเมษายน พ.ศ. 2548 (ขนาดเช่นเดียวกับข้างต้น)\n",
    "\n",
    "BILL_AMT1: จำนวนเงินในใบแจ้งยอดในเดือนกันยายน พ.ศ. 2548 (ดอลลาร์ไต้หวันใหม่)\n",
    "\n",
    "BILL_AMT2: จำนวนเงินในใบแจ้งยอดในเดือนสิงหาคม พ.ศ. 2548 (ดอลลาร์ไต้หวันใหม่)\n",
    "\n",
    "BILL_AMT3: จำนวนเงินในใบแจ้งยอดในเดือนกรกฎาคม พ.ศ. 2548 (ดอลลาร์ไต้หวันใหม่)\n",
    "\n",
    "BILL_AMT4: จำนวนเงินในใบแจ้งยอดในเดือนมิถุนายน พ.ศ. 2548 (ดอลลาร์ไต้หวันใหม่)\n",
    "\n",
    "BILL_AMT5: จำนวนเงินในใบแจ้งยอดในเดือนพฤษภาคม พ.ศ. 2548 (ดอลลาร์ไต้หวันใหม่)\n",
    "\n",
    "BILL_AMT6: สถานะการชำระคืนในเดือนเมษายน พ.ศ. 2548 (ดอลลาร์ไต้หวันใหม่)\n",
    "\n",
    "PAY_AMT1: จำนวนเงินที่ชำระครั้งก่อนในเดือนกันยายน พ.ศ. 2548 (ดอลลาร์ไต้หวันใหม่)\n",
    "\n",
    "PAY_AMT2: จำนวนเงินที่ชำระครั้งก่อนในเดือนสิงหาคม พ.ศ. 2548 (ดอลลาร์ไต้หวันใหม่)\n",
    "\n",
    "PAY_AMT3: จำนวนเงินที่ชำระครั้งก่อนในเดือนกรกฎาคม พ.ศ. 2548 (ดอลลาร์ไต้หวันใหม่)\n",
    "\n",
    "PAY_AMT4: จำนวนเงินที่ชำระครั้งก่อนในเดือนมิถุนายน พ.ศ. 2548 (ดอลลาร์ไต้หวันใหม่)\n",
    "\n",
    "PAY_AMT5: จำนวนเงินที่ชำระครั้งก่อนในเดือนพฤษภาคม พ.ศ. 2548 (ดอลลาร์ไต้หวันใหม่)\n",
    "\n",
    "PAY_AMT6: จำนวนเงินที่ชำระครั้งก่อนในเดือนเมษายน พ.ศ. 25485 (ดอลลาร์ไต้หวันใหม่)\n",
    "\n",
    "defaul payment next month: สถานะการชำระเงิน (1 = มีสถานะผิดนัดชำระหนี้, 0 = ไม่มีสถานะผิดนัดชำระหนี้)"
   ]
  },
  {
   "cell_type": "markdown",
   "id": "9befb8a2-895f-48c4-b347-d1b8c782962b",
   "metadata": {},
   "source": [
    "* แก้ไข Index ให้เป็น ID เพื่อให้สะดวกต่อการวิเคราะห์"
   ]
  },
  {
   "cell_type": "code",
   "execution_count": 79,
   "id": "1196eb22-c877-45b8-8eeb-eee1a71136db",
   "metadata": {},
   "outputs": [],
   "source": [
    "df.set_index(\"ID\", inplace = True)"
   ]
  },
  {
   "cell_type": "code",
   "execution_count": 17,
   "id": "9c3230db-51a7-4a08-863a-5ee8a79b8936",
   "metadata": {},
   "outputs": [
    {
     "data": {
      "text/html": [
       "<div>\n",
       "<style scoped>\n",
       "    .dataframe tbody tr th:only-of-type {\n",
       "        vertical-align: middle;\n",
       "    }\n",
       "\n",
       "    .dataframe tbody tr th {\n",
       "        vertical-align: top;\n",
       "    }\n",
       "\n",
       "    .dataframe thead th {\n",
       "        text-align: right;\n",
       "    }\n",
       "</style>\n",
       "<table border=\"1\" class=\"dataframe\">\n",
       "  <thead>\n",
       "    <tr style=\"text-align: right;\">\n",
       "      <th></th>\n",
       "      <th>LIMIT_BAL</th>\n",
       "      <th>SEX</th>\n",
       "      <th>EDUCATION</th>\n",
       "      <th>MARRIAGE</th>\n",
       "      <th>AGE</th>\n",
       "      <th>PAY_0</th>\n",
       "      <th>PAY_2</th>\n",
       "      <th>PAY_3</th>\n",
       "      <th>PAY_4</th>\n",
       "      <th>PAY_5</th>\n",
       "      <th>...</th>\n",
       "      <th>BILL_AMT4</th>\n",
       "      <th>BILL_AMT5</th>\n",
       "      <th>BILL_AMT6</th>\n",
       "      <th>PAY_AMT1</th>\n",
       "      <th>PAY_AMT2</th>\n",
       "      <th>PAY_AMT3</th>\n",
       "      <th>PAY_AMT4</th>\n",
       "      <th>PAY_AMT5</th>\n",
       "      <th>PAY_AMT6</th>\n",
       "      <th>default payment next month</th>\n",
       "    </tr>\n",
       "    <tr>\n",
       "      <th>ID</th>\n",
       "      <th></th>\n",
       "      <th></th>\n",
       "      <th></th>\n",
       "      <th></th>\n",
       "      <th></th>\n",
       "      <th></th>\n",
       "      <th></th>\n",
       "      <th></th>\n",
       "      <th></th>\n",
       "      <th></th>\n",
       "      <th></th>\n",
       "      <th></th>\n",
       "      <th></th>\n",
       "      <th></th>\n",
       "      <th></th>\n",
       "      <th></th>\n",
       "      <th></th>\n",
       "      <th></th>\n",
       "      <th></th>\n",
       "      <th></th>\n",
       "      <th></th>\n",
       "    </tr>\n",
       "  </thead>\n",
       "  <tbody>\n",
       "    <tr>\n",
       "      <th>1</th>\n",
       "      <td>20000</td>\n",
       "      <td>2</td>\n",
       "      <td>2</td>\n",
       "      <td>1</td>\n",
       "      <td>24</td>\n",
       "      <td>2</td>\n",
       "      <td>2</td>\n",
       "      <td>-1</td>\n",
       "      <td>-1</td>\n",
       "      <td>-2</td>\n",
       "      <td>...</td>\n",
       "      <td>0</td>\n",
       "      <td>0</td>\n",
       "      <td>0</td>\n",
       "      <td>0</td>\n",
       "      <td>689</td>\n",
       "      <td>0</td>\n",
       "      <td>0</td>\n",
       "      <td>0</td>\n",
       "      <td>0</td>\n",
       "      <td>1</td>\n",
       "    </tr>\n",
       "    <tr>\n",
       "      <th>2</th>\n",
       "      <td>120000</td>\n",
       "      <td>2</td>\n",
       "      <td>2</td>\n",
       "      <td>2</td>\n",
       "      <td>26</td>\n",
       "      <td>-1</td>\n",
       "      <td>2</td>\n",
       "      <td>0</td>\n",
       "      <td>0</td>\n",
       "      <td>0</td>\n",
       "      <td>...</td>\n",
       "      <td>3272</td>\n",
       "      <td>3455</td>\n",
       "      <td>3261</td>\n",
       "      <td>0</td>\n",
       "      <td>1000</td>\n",
       "      <td>1000</td>\n",
       "      <td>1000</td>\n",
       "      <td>0</td>\n",
       "      <td>2000</td>\n",
       "      <td>1</td>\n",
       "    </tr>\n",
       "    <tr>\n",
       "      <th>3</th>\n",
       "      <td>90000</td>\n",
       "      <td>2</td>\n",
       "      <td>2</td>\n",
       "      <td>2</td>\n",
       "      <td>34</td>\n",
       "      <td>0</td>\n",
       "      <td>0</td>\n",
       "      <td>0</td>\n",
       "      <td>0</td>\n",
       "      <td>0</td>\n",
       "      <td>...</td>\n",
       "      <td>14331</td>\n",
       "      <td>14948</td>\n",
       "      <td>15549</td>\n",
       "      <td>1518</td>\n",
       "      <td>1500</td>\n",
       "      <td>1000</td>\n",
       "      <td>1000</td>\n",
       "      <td>1000</td>\n",
       "      <td>5000</td>\n",
       "      <td>0</td>\n",
       "    </tr>\n",
       "    <tr>\n",
       "      <th>4</th>\n",
       "      <td>50000</td>\n",
       "      <td>2</td>\n",
       "      <td>2</td>\n",
       "      <td>1</td>\n",
       "      <td>37</td>\n",
       "      <td>0</td>\n",
       "      <td>0</td>\n",
       "      <td>0</td>\n",
       "      <td>0</td>\n",
       "      <td>0</td>\n",
       "      <td>...</td>\n",
       "      <td>28314</td>\n",
       "      <td>28959</td>\n",
       "      <td>29547</td>\n",
       "      <td>2000</td>\n",
       "      <td>2019</td>\n",
       "      <td>1200</td>\n",
       "      <td>1100</td>\n",
       "      <td>1069</td>\n",
       "      <td>1000</td>\n",
       "      <td>0</td>\n",
       "    </tr>\n",
       "    <tr>\n",
       "      <th>5</th>\n",
       "      <td>50000</td>\n",
       "      <td>1</td>\n",
       "      <td>2</td>\n",
       "      <td>1</td>\n",
       "      <td>57</td>\n",
       "      <td>-1</td>\n",
       "      <td>0</td>\n",
       "      <td>-1</td>\n",
       "      <td>0</td>\n",
       "      <td>0</td>\n",
       "      <td>...</td>\n",
       "      <td>20940</td>\n",
       "      <td>19146</td>\n",
       "      <td>19131</td>\n",
       "      <td>2000</td>\n",
       "      <td>36681</td>\n",
       "      <td>10000</td>\n",
       "      <td>9000</td>\n",
       "      <td>689</td>\n",
       "      <td>679</td>\n",
       "      <td>0</td>\n",
       "    </tr>\n",
       "  </tbody>\n",
       "</table>\n",
       "<p>5 rows × 24 columns</p>\n",
       "</div>"
      ],
      "text/plain": [
       "    LIMIT_BAL  SEX  EDUCATION  MARRIAGE  AGE  PAY_0  PAY_2  PAY_3  PAY_4  \\\n",
       "ID                                                                         \n",
       "1       20000    2          2         1   24      2      2     -1     -1   \n",
       "2      120000    2          2         2   26     -1      2      0      0   \n",
       "3       90000    2          2         2   34      0      0      0      0   \n",
       "4       50000    2          2         1   37      0      0      0      0   \n",
       "5       50000    1          2         1   57     -1      0     -1      0   \n",
       "\n",
       "    PAY_5  ...  BILL_AMT4  BILL_AMT5  BILL_AMT6  PAY_AMT1  PAY_AMT2  PAY_AMT3  \\\n",
       "ID         ...                                                                  \n",
       "1      -2  ...          0          0          0         0       689         0   \n",
       "2       0  ...       3272       3455       3261         0      1000      1000   \n",
       "3       0  ...      14331      14948      15549      1518      1500      1000   \n",
       "4       0  ...      28314      28959      29547      2000      2019      1200   \n",
       "5       0  ...      20940      19146      19131      2000     36681     10000   \n",
       "\n",
       "    PAY_AMT4  PAY_AMT5  PAY_AMT6  default payment next month  \n",
       "ID                                                            \n",
       "1          0         0         0                           1  \n",
       "2       1000         0      2000                           1  \n",
       "3       1000      1000      5000                           0  \n",
       "4       1100      1069      1000                           0  \n",
       "5       9000       689       679                           0  \n",
       "\n",
       "[5 rows x 24 columns]"
      ]
     },
     "execution_count": 17,
     "metadata": {},
     "output_type": "execute_result"
    }
   ],
   "source": [
    "df.head(5)"
   ]
  },
  {
   "cell_type": "markdown",
   "id": "7e94786c-f8cd-48ae-8117-a86c624ca26b",
   "metadata": {},
   "source": [
    "* ตรวจสอบค่า Null ในแต่ละฟีเจอร์"
   ]
  },
  {
   "cell_type": "code",
   "execution_count": 525,
   "id": "d79bb5d6-aa2c-460c-add0-e467358b523a",
   "metadata": {},
   "outputs": [
    {
     "name": "stdout",
     "output_type": "stream",
     "text": [
      "<class 'pandas.core.frame.DataFrame'>\n",
      "Index: 30000 entries, 1 to 30000\n",
      "Data columns (total 24 columns):\n",
      " #   Column                      Non-Null Count  Dtype\n",
      "---  ------                      --------------  -----\n",
      " 0   LIMIT_BAL                   30000 non-null  int64\n",
      " 1   SEX                         30000 non-null  int64\n",
      " 2   EDUCATION                   30000 non-null  int64\n",
      " 3   MARRIAGE                    30000 non-null  int64\n",
      " 4   AGE                         30000 non-null  int64\n",
      " 5   PAY_0                       30000 non-null  int64\n",
      " 6   PAY_2                       30000 non-null  int64\n",
      " 7   PAY_3                       30000 non-null  int64\n",
      " 8   PAY_4                       30000 non-null  int64\n",
      " 9   PAY_5                       30000 non-null  int64\n",
      " 10  PAY_6                       30000 non-null  int64\n",
      " 11  BILL_AMT1                   30000 non-null  int64\n",
      " 12  BILL_AMT2                   30000 non-null  int64\n",
      " 13  BILL_AMT3                   30000 non-null  int64\n",
      " 14  BILL_AMT4                   30000 non-null  int64\n",
      " 15  BILL_AMT5                   30000 non-null  int64\n",
      " 16  BILL_AMT6                   30000 non-null  int64\n",
      " 17  PAY_AMT1                    30000 non-null  int64\n",
      " 18  PAY_AMT2                    30000 non-null  int64\n",
      " 19  PAY_AMT3                    30000 non-null  int64\n",
      " 20  PAY_AMT4                    30000 non-null  int64\n",
      " 21  PAY_AMT5                    30000 non-null  int64\n",
      " 22  PAY_AMT6                    30000 non-null  int64\n",
      " 23  default payment next month  30000 non-null  int64\n",
      "dtypes: int64(24)\n",
      "memory usage: 5.7 MB\n"
     ]
    }
   ],
   "source": [
    "df.info()"
   ]
  },
  {
   "cell_type": "markdown",
   "id": "f827f35a-94d1-42ae-94ba-8f34204eaece",
   "metadata": {},
   "source": [
    "จากการตรวจสอบข้างต้นไม่พบข้อมูล Null ในตัวแปรใดๆของข้อมูลการผิดนัดชำระของลูกค้าบัตรเครดิตในไต้หวัน"
   ]
  },
  {
   "cell_type": "markdown",
   "id": "659971aa-a3ed-40ab-9276-6728daebdea1",
   "metadata": {},
   "source": [
    "* ตรวจสอบข้อมูลในตัวแปร EDUCATION และ MARRIAGE"
   ]
  },
  {
   "cell_type": "code",
   "execution_count": 26,
   "id": "0d292ebe-7d21-4aaf-9193-23012f2d2b80",
   "metadata": {},
   "outputs": [
    {
     "data": {
      "text/plain": [
       "EDUCATION\n",
       "0       14\n",
       "1    10585\n",
       "2    14030\n",
       "3     4917\n",
       "4      123\n",
       "5      280\n",
       "6       51\n",
       "Name: count, dtype: int64"
      ]
     },
     "execution_count": 26,
     "metadata": {},
     "output_type": "execute_result"
    }
   ],
   "source": [
    "df['EDUCATION'].value_counts().sort_index()"
   ]
  },
  {
   "cell_type": "code",
   "execution_count": 28,
   "id": "d8866f51-182b-4bbf-8fb8-1a235176a274",
   "metadata": {},
   "outputs": [
    {
     "data": {
      "text/plain": [
       "MARRIAGE\n",
       "0       54\n",
       "1    13659\n",
       "2    15964\n",
       "3      323\n",
       "Name: count, dtype: int64"
      ]
     },
     "execution_count": 28,
     "metadata": {},
     "output_type": "execute_result"
    }
   ],
   "source": [
    "df['MARRIAGE'].value_counts().sort_index()"
   ]
  },
  {
   "cell_type": "markdown",
   "id": "baa9914f-3e8f-4a28-b9f9-44d11bf56baf",
   "metadata": {},
   "source": [
    "จากตัวแปรอิระ EDUCATION พบค่าที่ไม่สามารถอธิบายความหมายของข้อมูล ได้แก่ 0, 5, 6 และตัวแปรอิระ MARRIAGE พบค่าที่ไม่สามารถอธิบายความหมายของข้อมูล ได้แก่ 0"
   ]
  },
  {
   "cell_type": "markdown",
   "id": "4aefd3bf-8785-4c2a-a4c7-6ab41890c06f",
   "metadata": {},
   "source": [
    "* ซึ่งผู้วิจัยได้ทำการแก้ไขปัญหาดังกล่าว โดยแทนค่า 0, 5, 6 ที่มาจากตัวแปรอิระ EDUCATION เป็น 'others' และแทนค่า 0 ที่มาจากตัวแปรอิระ MARRIAGE เป็น 'others' เช่นเดียวกัน"
   ]
  },
  {
   "cell_type": "code",
   "execution_count": 81,
   "id": "5d63a04f-c217-4f7b-8fc9-5a16587addf2",
   "metadata": {},
   "outputs": [],
   "source": [
    "df['EDUCATION'] = df['EDUCATION'].replace({0: 4, 5: 4, 6: 4})"
   ]
  },
  {
   "cell_type": "code",
   "execution_count": 83,
   "id": "a30067b4-241b-4d72-8ead-dd98f5c85335",
   "metadata": {},
   "outputs": [],
   "source": [
    "df['MARRIAGE'] = df['MARRIAGE'].replace({0: 3})"
   ]
  },
  {
   "cell_type": "markdown",
   "id": "0cf2e06c-cbe1-4409-9c48-c1f83e9973ea",
   "metadata": {},
   "source": [
    "* เปลี่ยนชื่อตัวแปรตาม default payment next month เป็น DEFAULT เพื่อให้สะดวกในการวิเคราะห์ข้อมูล"
   ]
  },
  {
   "cell_type": "code",
   "execution_count": 85,
   "id": "07989044-5f57-4ef3-b235-ab7586eb1311",
   "metadata": {},
   "outputs": [],
   "source": [
    "df = df.rename(columns = {'PAY_0': 'PAY_1'})"
   ]
  },
  {
   "cell_type": "code",
   "execution_count": 87,
   "id": "83290c18-1f02-45bb-991c-5e4c63ed22e2",
   "metadata": {},
   "outputs": [],
   "source": [
    "df = df.rename(columns = {'default payment next month': 'DEFAULT'})"
   ]
  },
  {
   "cell_type": "markdown",
   "id": "d2fef8d3-5ecf-445f-8464-580a79166bba",
   "metadata": {},
   "source": [
    "* เนื่องจากข้อมูลมีจำนวน class 1 และ 0 ที่แตกต่างกันมาก จึงต้องทำการปรับสมดุลข้อมูลด้วยเทคนิคผสม (SMOTE + Undersampling)"
   ]
  },
  {
   "cell_type": "code",
   "execution_count": 89,
   "id": "a33529a6-fa60-4195-944a-0b98c08207dc",
   "metadata": {},
   "outputs": [],
   "source": [
    "x = df.drop('DEFAULT',axis=1)"
   ]
  },
  {
   "cell_type": "code",
   "execution_count": 91,
   "id": "9b8a2887-1dd6-466a-b94f-09368b5b7687",
   "metadata": {},
   "outputs": [],
   "source": [
    "y = df['DEFAULT']"
   ]
  },
  {
   "cell_type": "code",
   "execution_count": 101,
   "id": "276ea4ea-dd6c-451f-a079-7b8972dc57ee",
   "metadata": {},
   "outputs": [
    {
     "name": "stdout",
     "output_type": "stream",
     "text": [
      "Counter({1: 17031, 0: 10394})\n"
     ]
    }
   ],
   "source": [
    "smote_enn = SMOTEENN(random_state=101)\n",
    "x_resampled, y_resampled = smote_enn.fit_resample(x, y)\n",
    "\n",
    "print(Counter(y_resampled))"
   ]
  },
  {
   "cell_type": "markdown",
   "id": "cb7ac4de-239e-45cc-9a01-60290ed5b224",
   "metadata": {},
   "source": [
    "* แบ่งข้อมูลที่ใช้ในการวิเคราะห์ออกเป็น 2 ส่วน โดยในส่วนแรกเป็นข้อมูลที่ใช้ในการสร้างโมเดล(Traning Data) ซึ่งเป็นร้อยละ 70 ของข้อมูลทั้งหมด และในส่วนที่สองเป็นข้อมูลที่ใช้ในการทดสอบประสิทธิภาพในการทำนายค่าของโมเดล(Testing Data) ซึ่งเป็นร้อยละ 30 ของข้อมูลทั้งหมด"
   ]
  },
  {
   "cell_type": "code",
   "execution_count": 103,
   "id": "318ae5f8-d9c0-41d3-a283-60bd7d900275",
   "metadata": {},
   "outputs": [],
   "source": [
    "x_train, x_test, y_train, y_test = train_test_split(x_resampled, y_resampled, test_size=0.30, random_state=101, stratify = y_resampled)"
   ]
  },
  {
   "cell_type": "markdown",
   "id": "a6a46320-c77c-4946-a826-93f868960168",
   "metadata": {},
   "source": [
    "* เนื่องจากข้อมูลในแต่ละฟีเจอร์มีขนาดที่แตกต่างกันมาก ผู้วิจัยจึงทำการปรับขนาดของฟีเจอร์โดยใช้วิธี StandardScaler"
   ]
  },
  {
   "cell_type": "code",
   "execution_count": 105,
   "id": "80e602df-f205-48cf-84d4-402a7c4a620a",
   "metadata": {},
   "outputs": [],
   "source": [
    "scaler = StandardScaler()\n",
    "x_train_scaled = scaler.fit_transform(x_train)\n",
    "x_test_scaled = scaler.transform(x_test)"
   ]
  },
  {
   "cell_type": "code",
   "execution_count": 107,
   "id": "91c0a577-7dd3-42f2-aa0b-5b909eacd2c3",
   "metadata": {},
   "outputs": [],
   "source": [
    "x_train_scaled = pd.DataFrame(x_train_scaled, columns=x_train.columns, index=x_train.index)\n",
    "x_test_scaled = pd.DataFrame(x_test_scaled, columns=x_test.columns, index=x_test.index)"
   ]
  },
  {
   "cell_type": "markdown",
   "id": "5a3c9938-7714-4b88-a076-63d7fee6e208",
   "metadata": {},
   "source": [
    "# 2.) สร้างโมเดล Random Forest โดยใช้ Bayesian optimization ในการคัดเลือกไฮเปอร์พารามิเตอร์"
   ]
  },
  {
   "cell_type": "markdown",
   "id": "5ee082b6-f365-4c19-85f2-9b97774801a5",
   "metadata": {},
   "source": [
    "* ความหมายของไฮเปอร์พารามิเตอร์แต่ละตัวในโมเดล Random Forest"
   ]
  },
  {
   "cell_type": "markdown",
   "id": "a807e98c-9206-4609-a2fb-3a4c4b1c9d77",
   "metadata": {},
   "source": [
    "1.) n_estimators คือ จำนวนต้นไม้ (trees) ที่จะสร้างใน Random Forest ยิ่งมีจำนวนต้นไม้มากขึ้น โมเดลมักจะมีความแม่นยำสูงขึ้น แต่ก็อาจทำให้ใช้เวลาฝึกฝนมากขึ้นและต้องการหน่วยความจำมากขึ้นด้วย\n",
    "\n",
    "2.) max_depth คือ ความลึกสูงสุดของต้นไม้แต่ละต้น ถ้ากำหนดความลึกให้สูงเกินไป โมเดลอาจเกิดการ overfitting ซึ่งหมายถึงการเรียนรู้รายละเอียดมากเกินไปจากข้อมูลฝึกฝนจนไม่สามารถทั่วไปกับข้อมูลใหม่ได้ ในทางกลับกัน ถ้ากำหนดให้ต่ำเกินไป โมเดลอาจไม่สามารถจับความสัมพันธ์ที่ซับซ้อนในข้อมูลได้\n",
    "\n",
    "3.) min_samples_split คือ จำนวนตัวอย่างขั้นต่ำที่ต้องมีในโหนดก่อนที่จะสามารถแบ่งเป็นโหนดใหม่ได้ ถ้าค่านี้สูงเกินไป โมเดลอาจไม่แบ่งโหนดซึ่งอาจทำให้การจำแนกประเภทไม่แม่นยำขึ้น ในขณะที่ถ้าต่ำเกินไป โมเดลอาจเรียนรู้รายละเอียดเล็กๆ ที่ไม่สำคัญจากข้อมูล\n",
    "\n",
    "4.) min_samples_leaf คือ จำนวนตัวอย่างขั้นต่ำที่ต้องมีในโหนดใบ (leaf node) ถ้าค่านี้สูงเกินไป โมเดลจะทำให้โหนดใบมีจำนวนตัวอย่างมากขึ้น ซึ่งอาจช่วยลดการ overfitting ในทางกลับกัน ถ้าค่าต่ำเกินไป โหนดใบอาจมีเพียงตัวอย่างเดียว ซึ่งอาจทำให้เกิดการ overfitting ได้\n",
    "\n",
    "5.) max_features คือ จำนวนฟีเจอร์สูงสุดที่จะพิจารณาสำหรับการแบ่งในแต่ละโหนด สามารถเลือกได้หลายวิธี เช่น การเลือกฟีเจอร์แบบสุ่ม (sqrt, log2) หรือการระบุสัดส่วนของฟีเจอร์ที่ใช้ (0.5, 0.75) การกำหนดค่าที่เหมาะสมจะช่วยให้โมเดลมีความหลากหลายและลดความเสี่ยงของการ overfitting\n"
   ]
  },
  {
   "cell_type": "code",
   "execution_count": 111,
   "id": "7d05d516-d742-4ae6-8dd2-355469e914a6",
   "metadata": {},
   "outputs": [],
   "source": [
    "def objective(trial):\n",
    "    n_estimators = trial.suggest_int('n_estimators', 100, 600)  \n",
    "    max_depth = None  \n",
    "    min_samples_split = trial.suggest_int('min_samples_split', 2, 20)  \n",
    "    min_samples_leaf = trial.suggest_int('min_samples_leaf', 1, 10)\n",
    "    max_features = trial.suggest_categorical('max_features', ['sqrt', 'log2', None, 0.5, 0.75])\n",
    "    \n",
    "    rf_model = RandomForestClassifier(\n",
    "        n_estimators = n_estimators,\n",
    "        max_depth = max_depth,\n",
    "        min_samples_split = min_samples_split,\n",
    "        min_samples_leaf = min_samples_leaf,\n",
    "        max_features = max_features,\n",
    "        n_jobs = -1,\n",
    "        random_state = None\n",
    "    )\n",
    "\n",
    "    score = cross_val_score(rf_model, x_train_scaled, y_train, cv=5, scoring='accuracy', n_jobs=-1)\n",
    "    \n",
    "    return score.mean()  "
   ]
  },
  {
   "cell_type": "code",
   "execution_count": 113,
   "id": "52ee2d15-d8bd-413f-961d-f5fb7813bd66",
   "metadata": {
    "scrolled": true
   },
   "outputs": [
    {
     "name": "stderr",
     "output_type": "stream",
     "text": [
      "[I 2025-02-27 20:41:17,107] A new study created in memory with name: no-name-9c668b13-bc90-4012-a8f0-0c489202fad0\n",
      "[I 2025-02-27 20:41:25,669] Trial 0 finished with value: 0.866697870539203 and parameters: {'n_estimators': 140, 'min_samples_split': 11, 'min_samples_leaf': 3, 'max_features': 'log2'}. Best is trial 0 with value: 0.866697870539203.\n",
      "[I 2025-02-27 20:41:43,503] Trial 1 finished with value: 0.8646141437657378 and parameters: {'n_estimators': 170, 'min_samples_split': 4, 'min_samples_leaf': 5, 'max_features': 0.5}. Best is trial 0 with value: 0.866697870539203.\n",
      "[I 2025-02-27 20:41:50,451] Trial 2 finished with value: 0.8550814556742207 and parameters: {'n_estimators': 154, 'min_samples_split': 17, 'min_samples_leaf': 8, 'max_features': 'sqrt'}. Best is trial 0 with value: 0.866697870539203.\n",
      "[I 2025-02-27 20:41:56,572] Trial 3 finished with value: 0.8712822213901189 and parameters: {'n_estimators': 135, 'min_samples_split': 8, 'min_samples_leaf': 2, 'max_features': 'log2'}. Best is trial 3 with value: 0.8712822213901189.\n",
      "[I 2025-02-27 20:42:37,455] Trial 4 finished with value: 0.871855355127203 and parameters: {'n_estimators': 191, 'min_samples_split': 3, 'min_samples_leaf': 3, 'max_features': None}. Best is trial 4 with value: 0.871855355127203.\n",
      "[I 2025-02-27 20:43:00,112] Trial 5 finished with value: 0.8612804576929756 and parameters: {'n_estimators': 114, 'min_samples_split': 9, 'min_samples_leaf': 6, 'max_features': None}. Best is trial 4 with value: 0.871855355127203.\n",
      "[I 2025-02-27 20:43:17,536] Trial 6 finished with value: 0.8675834093079795 and parameters: {'n_estimators': 385, 'min_samples_split': 8, 'min_samples_leaf': 4, 'max_features': 'sqrt'}. Best is trial 4 with value: 0.871855355127203.\n",
      "[I 2025-02-27 20:43:36,848] Trial 7 finished with value: 0.8601343937223236 and parameters: {'n_estimators': 163, 'min_samples_split': 20, 'min_samples_leaf': 4, 'max_features': 0.5}. Best is trial 4 with value: 0.871855355127203.\n",
      "[I 2025-02-27 20:43:56,610] Trial 8 finished with value: 0.8586756533819571 and parameters: {'n_estimators': 414, 'min_samples_split': 16, 'min_samples_leaf': 6, 'max_features': 'sqrt'}. Best is trial 4 with value: 0.871855355127203.\n",
      "[I 2025-02-27 20:44:13,365] Trial 9 finished with value: 0.8565922250803162 and parameters: {'n_estimators': 349, 'min_samples_split': 18, 'min_samples_leaf': 7, 'max_features': 'sqrt'}. Best is trial 4 with value: 0.871855355127203.\n",
      "[I 2025-02-27 20:45:22,749] Trial 10 finished with value: 0.8805544928149691 and parameters: {'n_estimators': 280, 'min_samples_split': 3, 'min_samples_leaf': 1, 'max_features': None}. Best is trial 10 with value: 0.8805544928149691.\n",
      "[I 2025-02-27 20:46:25,869] Trial 11 finished with value: 0.8809712137492403 and parameters: {'n_estimators': 254, 'min_samples_split': 2, 'min_samples_leaf': 1, 'max_features': None}. Best is trial 11 with value: 0.8809712137492403.\n",
      "[I 2025-02-27 20:47:34,266] Trial 12 finished with value: 0.8792522059781194 and parameters: {'n_estimators': 277, 'min_samples_split': 5, 'min_samples_leaf': 1, 'max_features': None}. Best is trial 11 with value: 0.8809712137492403.\n",
      "[I 2025-02-27 20:49:15,507] Trial 13 finished with value: 0.8824818067856212 and parameters: {'n_estimators': 539, 'min_samples_split': 2, 'min_samples_leaf': 1, 'max_features': 0.75}. Best is trial 13 with value: 0.8824818067856212.\n",
      "[I 2025-02-27 20:50:43,926] Trial 14 finished with value: 0.857008918880785 and parameters: {'n_estimators': 589, 'min_samples_split': 2, 'min_samples_leaf': 9, 'max_features': 0.75}. Best is trial 13 with value: 0.8824818067856212.\n",
      "[I 2025-02-27 20:52:34,265] Trial 15 finished with value: 0.8789916129417383 and parameters: {'n_estimators': 565, 'min_samples_split': 6, 'min_samples_leaf': 1, 'max_features': 0.75}. Best is trial 13 with value: 0.8824818067856212.\n",
      "[I 2025-02-27 20:58:15,039] Trial 16 finished with value: 0.8550817134453418 and parameters: {'n_estimators': 491, 'min_samples_split': 13, 'min_samples_leaf': 10, 'max_features': 0.75}. Best is trial 13 with value: 0.8824818067856212.\n",
      "[I 2025-02-27 20:59:41,094] Trial 17 finished with value: 0.87190723495702 and parameters: {'n_estimators': 476, 'min_samples_split': 7, 'min_samples_leaf': 3, 'max_features': 0.75}. Best is trial 13 with value: 0.8824818067856212.\n",
      "[I 2025-02-27 21:00:46,285] Trial 18 finished with value: 0.8697713434488149 and parameters: {'n_estimators': 267, 'min_samples_split': 11, 'min_samples_leaf': 2, 'max_features': None}. Best is trial 13 with value: 0.8824818067856212.\n",
      "[I 2025-02-27 21:01:26,985] Trial 19 finished with value: 0.8782103629417384 and parameters: {'n_estimators': 233, 'min_samples_split': 2, 'min_samples_leaf': 2, 'max_features': 0.75}. Best is trial 13 with value: 0.8824818067856212.\n",
      "[I 2025-02-27 21:02:09,233] Trial 20 finished with value: 0.8662290391377964 and parameters: {'n_estimators': 345, 'min_samples_split': 14, 'min_samples_leaf': 4, 'max_features': 0.5}. Best is trial 13 with value: 0.8824818067856212.\n",
      "[I 2025-02-27 21:03:30,795] Trial 21 finished with value: 0.8803460373795259 and parameters: {'n_estimators': 304, 'min_samples_split': 4, 'min_samples_leaf': 1, 'max_features': None}. Best is trial 13 with value: 0.8824818067856212.\n",
      "[I 2025-02-27 21:04:28,962] Trial 22 finished with value: 0.8814401943865591 and parameters: {'n_estimators': 218, 'min_samples_split': 2, 'min_samples_leaf': 1, 'max_features': None}. Best is trial 13 with value: 0.8824818067856212.\n",
      "[I 2025-02-27 21:05:25,603] Trial 23 finished with value: 0.8760747020708518 and parameters: {'n_estimators': 219, 'min_samples_split': 5, 'min_samples_leaf': 2, 'max_features': None}. Best is trial 13 with value: 0.8824818067856212.\n",
      "[I 2025-02-27 21:07:50,860] Trial 24 finished with value: 0.8813879753842147 and parameters: {'n_estimators': 524, 'min_samples_split': 2, 'min_samples_leaf': 1, 'max_features': None}. Best is trial 13 with value: 0.8824818067856212.\n",
      "[I 2025-02-27 21:08:18,882] Trial 25 finished with value: 0.8716466012199356 and parameters: {'n_estimators': 513, 'min_samples_split': 6, 'min_samples_leaf': 3, 'max_features': 'log2'}. Best is trial 13 with value: 0.8824818067856212.\n",
      "[I 2025-02-27 21:09:49,121] Trial 26 finished with value: 0.8796166129417383 and parameters: {'n_estimators': 435, 'min_samples_split': 4, 'min_samples_leaf': 2, 'max_features': 0.75}. Best is trial 13 with value: 0.8824818067856212.\n",
      "[I 2025-02-27 21:11:58,831] Trial 27 finished with value: 0.8659165527046973 and parameters: {'n_estimators': 543, 'min_samples_split': 2, 'min_samples_leaf': 5, 'max_features': None}. Best is trial 13 with value: 0.8824818067856212.\n",
      "[I 2025-02-27 21:14:11,807] Trial 28 finished with value: 0.8747722117304854 and parameters: {'n_estimators': 527, 'min_samples_split': 9, 'min_samples_leaf': 1, 'max_features': None}. Best is trial 13 with value: 0.8824818067856212.\n",
      "[I 2025-02-27 21:14:35,270] Trial 29 finished with value: 0.8712298260180603 and parameters: {'n_estimators': 458, 'min_samples_split': 5, 'min_samples_leaf': 3, 'max_features': 'log2'}. Best is trial 13 with value: 0.8824818067856212.\n",
      "[I 2025-02-27 21:16:21,090] Trial 30 finished with value: 0.8786271110098116 and parameters: {'n_estimators': 586, 'min_samples_split': 3, 'min_samples_leaf': 2, 'max_features': 0.75}. Best is trial 13 with value: 0.8824818067856212.\n",
      "[I 2025-02-27 21:17:17,600] Trial 31 finished with value: 0.8818565218806981 and parameters: {'n_estimators': 227, 'min_samples_split': 2, 'min_samples_leaf': 1, 'max_features': None}. Best is trial 13 with value: 0.8824818067856212.\n",
      "[I 2025-02-27 21:18:55,339] Trial 32 finished with value: 0.8798252854475992 and parameters: {'n_estimators': 392, 'min_samples_split': 4, 'min_samples_leaf': 1, 'max_features': None}. Best is trial 13 with value: 0.8824818067856212.\n",
      "[I 2025-02-27 21:19:43,996] Trial 33 finished with value: 0.8763350509030129 and parameters: {'n_estimators': 189, 'min_samples_split': 3, 'min_samples_leaf': 2, 'max_features': None}. Best is trial 13 with value: 0.8824818067856212.\n",
      "[I 2025-02-27 21:20:10,446] Trial 34 finished with value: 0.8789915315403316 and parameters: {'n_estimators': 214, 'min_samples_split': 6, 'min_samples_leaf': 1, 'max_features': 0.5}. Best is trial 13 with value: 0.8824818067856212.\n",
      "[I 2025-02-27 21:21:26,981] Trial 35 finished with value: 0.8741469675262655 and parameters: {'n_estimators': 333, 'min_samples_split': 2, 'min_samples_leaf': 3, 'max_features': None}. Best is trial 13 with value: 0.8824818067856212.\n",
      "[I 2025-02-27 21:21:54,782] Trial 36 finished with value: 0.8783144753408006 and parameters: {'n_estimators': 553, 'min_samples_split': 4, 'min_samples_leaf': 2, 'max_features': 'log2'}. Best is trial 13 with value: 0.8824818067856212.\n",
      "[I 2025-02-27 21:23:02,656] Trial 37 finished with value: 0.8698755508161847 and parameters: {'n_estimators': 307, 'min_samples_split': 7, 'min_samples_leaf': 4, 'max_features': None}. Best is trial 13 with value: 0.8824818067856212.\n",
      "[I 2025-02-27 21:23:31,115] Trial 38 finished with value: 0.8584676320873491 and parameters: {'n_estimators': 139, 'min_samples_split': 3, 'min_samples_leaf': 8, 'max_features': None}. Best is trial 13 with value: 0.8824818067856212.\n",
      "[I 2025-02-27 21:23:52,086] Trial 39 finished with value: 0.8656562174394373 and parameters: {'n_estimators': 191, 'min_samples_split': 9, 'min_samples_leaf': 5, 'max_features': 0.5}. Best is trial 13 with value: 0.8824818067856212.\n",
      "[I 2025-02-27 21:24:15,340] Trial 40 finished with value: 0.8671146186072762 and parameters: {'n_estimators': 500, 'min_samples_split': 13, 'min_samples_leaf': 3, 'max_features': 'sqrt'}. Best is trial 13 with value: 0.8824818067856212.\n",
      "[I 2025-02-27 21:24:42,593] Trial 41 finished with value: 0.877845643939394 and parameters: {'n_estimators': 107, 'min_samples_split': 2, 'min_samples_leaf': 1, 'max_features': None}. Best is trial 13 with value: 0.8824818067856212.\n",
      "[I 2025-02-27 21:25:43,832] Trial 42 finished with value: 0.8796167893114527 and parameters: {'n_estimators': 246, 'min_samples_split': 3, 'min_samples_leaf': 1, 'max_features': None}. Best is trial 13 with value: 0.8824818067856212.\n",
      "[I 2025-02-27 21:26:23,469] Trial 43 finished with value: 0.8770643261048885 and parameters: {'n_estimators': 165, 'min_samples_split': 2, 'min_samples_leaf': 2, 'max_features': None}. Best is trial 13 with value: 0.8824818067856212.\n",
      "[I 2025-02-27 21:27:26,499] Trial 44 finished with value: 0.879668899778588 and parameters: {'n_estimators': 253, 'min_samples_split': 4, 'min_samples_leaf': 1, 'max_features': None}. Best is trial 13 with value: 0.8824818067856212.\n",
      "[I 2025-02-27 21:27:45,711] Trial 45 finished with value: 0.8813876904792913 and parameters: {'n_estimators': 375, 'min_samples_split': 5, 'min_samples_leaf': 1, 'max_features': 'sqrt'}. Best is trial 13 with value: 0.8824818067856212.\n",
      "[I 2025-02-27 21:28:07,819] Trial 46 finished with value: 0.8759703454675696 and parameters: {'n_estimators': 445, 'min_samples_split': 5, 'min_samples_leaf': 2, 'max_features': 'sqrt'}. Best is trial 13 with value: 0.8824818067856212.\n",
      "[I 2025-02-27 21:28:24,341] Trial 47 finished with value: 0.8836798184205957 and parameters: {'n_estimators': 309, 'min_samples_split': 3, 'min_samples_leaf': 1, 'max_features': 'sqrt'}. Best is trial 47 with value: 0.8836798184205957.\n",
      "[I 2025-02-27 21:28:38,960] Trial 48 finished with value: 0.8671145643396716 and parameters: {'n_estimators': 301, 'min_samples_split': 3, 'min_samples_leaf': 4, 'max_features': 'sqrt'}. Best is trial 47 with value: 0.8836798184205957.\n",
      "[I 2025-02-27 21:28:57,259] Trial 49 finished with value: 0.8566442270122427 and parameters: {'n_estimators': 415, 'min_samples_split': 19, 'min_samples_leaf': 7, 'max_features': 'sqrt'}. Best is trial 47 with value: 0.8836798184205957.\n"
     ]
    }
   ],
   "source": [
    "study = optuna.create_study(direction='maximize')\n",
    "study.optimize(objective, n_trials=50)"
   ]
  },
  {
   "cell_type": "code",
   "execution_count": 115,
   "id": "31642e09-3ab6-40d0-8cf2-0bb3b61df850",
   "metadata": {},
   "outputs": [
    {
     "name": "stdout",
     "output_type": "stream",
     "text": [
      "Best parameters: {'n_estimators': 309, 'min_samples_split': 3, 'min_samples_leaf': 1, 'max_features': 'sqrt'}\n"
     ]
    }
   ],
   "source": [
    "best_params = study.best_params\n",
    "print(\"Best parameters:\", best_params)"
   ]
  },
  {
   "cell_type": "code",
   "execution_count": 117,
   "id": "5a6f4915-0938-44e5-a6ed-cc2fbc8be037",
   "metadata": {},
   "outputs": [
    {
     "data": {
      "text/html": [
       "<style>#sk-container-id-3 {\n",
       "  /* Definition of color scheme common for light and dark mode */\n",
       "  --sklearn-color-text: black;\n",
       "  --sklearn-color-line: gray;\n",
       "  /* Definition of color scheme for unfitted estimators */\n",
       "  --sklearn-color-unfitted-level-0: #fff5e6;\n",
       "  --sklearn-color-unfitted-level-1: #f6e4d2;\n",
       "  --sklearn-color-unfitted-level-2: #ffe0b3;\n",
       "  --sklearn-color-unfitted-level-3: chocolate;\n",
       "  /* Definition of color scheme for fitted estimators */\n",
       "  --sklearn-color-fitted-level-0: #f0f8ff;\n",
       "  --sklearn-color-fitted-level-1: #d4ebff;\n",
       "  --sklearn-color-fitted-level-2: #b3dbfd;\n",
       "  --sklearn-color-fitted-level-3: cornflowerblue;\n",
       "\n",
       "  /* Specific color for light theme */\n",
       "  --sklearn-color-text-on-default-background: var(--sg-text-color, var(--theme-code-foreground, var(--jp-content-font-color1, black)));\n",
       "  --sklearn-color-background: var(--sg-background-color, var(--theme-background, var(--jp-layout-color0, white)));\n",
       "  --sklearn-color-border-box: var(--sg-text-color, var(--theme-code-foreground, var(--jp-content-font-color1, black)));\n",
       "  --sklearn-color-icon: #696969;\n",
       "\n",
       "  @media (prefers-color-scheme: dark) {\n",
       "    /* Redefinition of color scheme for dark theme */\n",
       "    --sklearn-color-text-on-default-background: var(--sg-text-color, var(--theme-code-foreground, var(--jp-content-font-color1, white)));\n",
       "    --sklearn-color-background: var(--sg-background-color, var(--theme-background, var(--jp-layout-color0, #111)));\n",
       "    --sklearn-color-border-box: var(--sg-text-color, var(--theme-code-foreground, var(--jp-content-font-color1, white)));\n",
       "    --sklearn-color-icon: #878787;\n",
       "  }\n",
       "}\n",
       "\n",
       "#sk-container-id-3 {\n",
       "  color: var(--sklearn-color-text);\n",
       "}\n",
       "\n",
       "#sk-container-id-3 pre {\n",
       "  padding: 0;\n",
       "}\n",
       "\n",
       "#sk-container-id-3 input.sk-hidden--visually {\n",
       "  border: 0;\n",
       "  clip: rect(1px 1px 1px 1px);\n",
       "  clip: rect(1px, 1px, 1px, 1px);\n",
       "  height: 1px;\n",
       "  margin: -1px;\n",
       "  overflow: hidden;\n",
       "  padding: 0;\n",
       "  position: absolute;\n",
       "  width: 1px;\n",
       "}\n",
       "\n",
       "#sk-container-id-3 div.sk-dashed-wrapped {\n",
       "  border: 1px dashed var(--sklearn-color-line);\n",
       "  margin: 0 0.4em 0.5em 0.4em;\n",
       "  box-sizing: border-box;\n",
       "  padding-bottom: 0.4em;\n",
       "  background-color: var(--sklearn-color-background);\n",
       "}\n",
       "\n",
       "#sk-container-id-3 div.sk-container {\n",
       "  /* jupyter's `normalize.less` sets `[hidden] { display: none; }`\n",
       "     but bootstrap.min.css set `[hidden] { display: none !important; }`\n",
       "     so we also need the `!important` here to be able to override the\n",
       "     default hidden behavior on the sphinx rendered scikit-learn.org.\n",
       "     See: https://github.com/scikit-learn/scikit-learn/issues/21755 */\n",
       "  display: inline-block !important;\n",
       "  position: relative;\n",
       "}\n",
       "\n",
       "#sk-container-id-3 div.sk-text-repr-fallback {\n",
       "  display: none;\n",
       "}\n",
       "\n",
       "div.sk-parallel-item,\n",
       "div.sk-serial,\n",
       "div.sk-item {\n",
       "  /* draw centered vertical line to link estimators */\n",
       "  background-image: linear-gradient(var(--sklearn-color-text-on-default-background), var(--sklearn-color-text-on-default-background));\n",
       "  background-size: 2px 100%;\n",
       "  background-repeat: no-repeat;\n",
       "  background-position: center center;\n",
       "}\n",
       "\n",
       "/* Parallel-specific style estimator block */\n",
       "\n",
       "#sk-container-id-3 div.sk-parallel-item::after {\n",
       "  content: \"\";\n",
       "  width: 100%;\n",
       "  border-bottom: 2px solid var(--sklearn-color-text-on-default-background);\n",
       "  flex-grow: 1;\n",
       "}\n",
       "\n",
       "#sk-container-id-3 div.sk-parallel {\n",
       "  display: flex;\n",
       "  align-items: stretch;\n",
       "  justify-content: center;\n",
       "  background-color: var(--sklearn-color-background);\n",
       "  position: relative;\n",
       "}\n",
       "\n",
       "#sk-container-id-3 div.sk-parallel-item {\n",
       "  display: flex;\n",
       "  flex-direction: column;\n",
       "}\n",
       "\n",
       "#sk-container-id-3 div.sk-parallel-item:first-child::after {\n",
       "  align-self: flex-end;\n",
       "  width: 50%;\n",
       "}\n",
       "\n",
       "#sk-container-id-3 div.sk-parallel-item:last-child::after {\n",
       "  align-self: flex-start;\n",
       "  width: 50%;\n",
       "}\n",
       "\n",
       "#sk-container-id-3 div.sk-parallel-item:only-child::after {\n",
       "  width: 0;\n",
       "}\n",
       "\n",
       "/* Serial-specific style estimator block */\n",
       "\n",
       "#sk-container-id-3 div.sk-serial {\n",
       "  display: flex;\n",
       "  flex-direction: column;\n",
       "  align-items: center;\n",
       "  background-color: var(--sklearn-color-background);\n",
       "  padding-right: 1em;\n",
       "  padding-left: 1em;\n",
       "}\n",
       "\n",
       "\n",
       "/* Toggleable style: style used for estimator/Pipeline/ColumnTransformer box that is\n",
       "clickable and can be expanded/collapsed.\n",
       "- Pipeline and ColumnTransformer use this feature and define the default style\n",
       "- Estimators will overwrite some part of the style using the `sk-estimator` class\n",
       "*/\n",
       "\n",
       "/* Pipeline and ColumnTransformer style (default) */\n",
       "\n",
       "#sk-container-id-3 div.sk-toggleable {\n",
       "  /* Default theme specific background. It is overwritten whether we have a\n",
       "  specific estimator or a Pipeline/ColumnTransformer */\n",
       "  background-color: var(--sklearn-color-background);\n",
       "}\n",
       "\n",
       "/* Toggleable label */\n",
       "#sk-container-id-3 label.sk-toggleable__label {\n",
       "  cursor: pointer;\n",
       "  display: block;\n",
       "  width: 100%;\n",
       "  margin-bottom: 0;\n",
       "  padding: 0.5em;\n",
       "  box-sizing: border-box;\n",
       "  text-align: center;\n",
       "}\n",
       "\n",
       "#sk-container-id-3 label.sk-toggleable__label-arrow:before {\n",
       "  /* Arrow on the left of the label */\n",
       "  content: \"▸\";\n",
       "  float: left;\n",
       "  margin-right: 0.25em;\n",
       "  color: var(--sklearn-color-icon);\n",
       "}\n",
       "\n",
       "#sk-container-id-3 label.sk-toggleable__label-arrow:hover:before {\n",
       "  color: var(--sklearn-color-text);\n",
       "}\n",
       "\n",
       "/* Toggleable content - dropdown */\n",
       "\n",
       "#sk-container-id-3 div.sk-toggleable__content {\n",
       "  max-height: 0;\n",
       "  max-width: 0;\n",
       "  overflow: hidden;\n",
       "  text-align: left;\n",
       "  /* unfitted */\n",
       "  background-color: var(--sklearn-color-unfitted-level-0);\n",
       "}\n",
       "\n",
       "#sk-container-id-3 div.sk-toggleable__content.fitted {\n",
       "  /* fitted */\n",
       "  background-color: var(--sklearn-color-fitted-level-0);\n",
       "}\n",
       "\n",
       "#sk-container-id-3 div.sk-toggleable__content pre {\n",
       "  margin: 0.2em;\n",
       "  border-radius: 0.25em;\n",
       "  color: var(--sklearn-color-text);\n",
       "  /* unfitted */\n",
       "  background-color: var(--sklearn-color-unfitted-level-0);\n",
       "}\n",
       "\n",
       "#sk-container-id-3 div.sk-toggleable__content.fitted pre {\n",
       "  /* unfitted */\n",
       "  background-color: var(--sklearn-color-fitted-level-0);\n",
       "}\n",
       "\n",
       "#sk-container-id-3 input.sk-toggleable__control:checked~div.sk-toggleable__content {\n",
       "  /* Expand drop-down */\n",
       "  max-height: 200px;\n",
       "  max-width: 100%;\n",
       "  overflow: auto;\n",
       "}\n",
       "\n",
       "#sk-container-id-3 input.sk-toggleable__control:checked~label.sk-toggleable__label-arrow:before {\n",
       "  content: \"▾\";\n",
       "}\n",
       "\n",
       "/* Pipeline/ColumnTransformer-specific style */\n",
       "\n",
       "#sk-container-id-3 div.sk-label input.sk-toggleable__control:checked~label.sk-toggleable__label {\n",
       "  color: var(--sklearn-color-text);\n",
       "  background-color: var(--sklearn-color-unfitted-level-2);\n",
       "}\n",
       "\n",
       "#sk-container-id-3 div.sk-label.fitted input.sk-toggleable__control:checked~label.sk-toggleable__label {\n",
       "  background-color: var(--sklearn-color-fitted-level-2);\n",
       "}\n",
       "\n",
       "/* Estimator-specific style */\n",
       "\n",
       "/* Colorize estimator box */\n",
       "#sk-container-id-3 div.sk-estimator input.sk-toggleable__control:checked~label.sk-toggleable__label {\n",
       "  /* unfitted */\n",
       "  background-color: var(--sklearn-color-unfitted-level-2);\n",
       "}\n",
       "\n",
       "#sk-container-id-3 div.sk-estimator.fitted input.sk-toggleable__control:checked~label.sk-toggleable__label {\n",
       "  /* fitted */\n",
       "  background-color: var(--sklearn-color-fitted-level-2);\n",
       "}\n",
       "\n",
       "#sk-container-id-3 div.sk-label label.sk-toggleable__label,\n",
       "#sk-container-id-3 div.sk-label label {\n",
       "  /* The background is the default theme color */\n",
       "  color: var(--sklearn-color-text-on-default-background);\n",
       "}\n",
       "\n",
       "/* On hover, darken the color of the background */\n",
       "#sk-container-id-3 div.sk-label:hover label.sk-toggleable__label {\n",
       "  color: var(--sklearn-color-text);\n",
       "  background-color: var(--sklearn-color-unfitted-level-2);\n",
       "}\n",
       "\n",
       "/* Label box, darken color on hover, fitted */\n",
       "#sk-container-id-3 div.sk-label.fitted:hover label.sk-toggleable__label.fitted {\n",
       "  color: var(--sklearn-color-text);\n",
       "  background-color: var(--sklearn-color-fitted-level-2);\n",
       "}\n",
       "\n",
       "/* Estimator label */\n",
       "\n",
       "#sk-container-id-3 div.sk-label label {\n",
       "  font-family: monospace;\n",
       "  font-weight: bold;\n",
       "  display: inline-block;\n",
       "  line-height: 1.2em;\n",
       "}\n",
       "\n",
       "#sk-container-id-3 div.sk-label-container {\n",
       "  text-align: center;\n",
       "}\n",
       "\n",
       "/* Estimator-specific */\n",
       "#sk-container-id-3 div.sk-estimator {\n",
       "  font-family: monospace;\n",
       "  border: 1px dotted var(--sklearn-color-border-box);\n",
       "  border-radius: 0.25em;\n",
       "  box-sizing: border-box;\n",
       "  margin-bottom: 0.5em;\n",
       "  /* unfitted */\n",
       "  background-color: var(--sklearn-color-unfitted-level-0);\n",
       "}\n",
       "\n",
       "#sk-container-id-3 div.sk-estimator.fitted {\n",
       "  /* fitted */\n",
       "  background-color: var(--sklearn-color-fitted-level-0);\n",
       "}\n",
       "\n",
       "/* on hover */\n",
       "#sk-container-id-3 div.sk-estimator:hover {\n",
       "  /* unfitted */\n",
       "  background-color: var(--sklearn-color-unfitted-level-2);\n",
       "}\n",
       "\n",
       "#sk-container-id-3 div.sk-estimator.fitted:hover {\n",
       "  /* fitted */\n",
       "  background-color: var(--sklearn-color-fitted-level-2);\n",
       "}\n",
       "\n",
       "/* Specification for estimator info (e.g. \"i\" and \"?\") */\n",
       "\n",
       "/* Common style for \"i\" and \"?\" */\n",
       "\n",
       ".sk-estimator-doc-link,\n",
       "a:link.sk-estimator-doc-link,\n",
       "a:visited.sk-estimator-doc-link {\n",
       "  float: right;\n",
       "  font-size: smaller;\n",
       "  line-height: 1em;\n",
       "  font-family: monospace;\n",
       "  background-color: var(--sklearn-color-background);\n",
       "  border-radius: 1em;\n",
       "  height: 1em;\n",
       "  width: 1em;\n",
       "  text-decoration: none !important;\n",
       "  margin-left: 1ex;\n",
       "  /* unfitted */\n",
       "  border: var(--sklearn-color-unfitted-level-1) 1pt solid;\n",
       "  color: var(--sklearn-color-unfitted-level-1);\n",
       "}\n",
       "\n",
       ".sk-estimator-doc-link.fitted,\n",
       "a:link.sk-estimator-doc-link.fitted,\n",
       "a:visited.sk-estimator-doc-link.fitted {\n",
       "  /* fitted */\n",
       "  border: var(--sklearn-color-fitted-level-1) 1pt solid;\n",
       "  color: var(--sklearn-color-fitted-level-1);\n",
       "}\n",
       "\n",
       "/* On hover */\n",
       "div.sk-estimator:hover .sk-estimator-doc-link:hover,\n",
       ".sk-estimator-doc-link:hover,\n",
       "div.sk-label-container:hover .sk-estimator-doc-link:hover,\n",
       ".sk-estimator-doc-link:hover {\n",
       "  /* unfitted */\n",
       "  background-color: var(--sklearn-color-unfitted-level-3);\n",
       "  color: var(--sklearn-color-background);\n",
       "  text-decoration: none;\n",
       "}\n",
       "\n",
       "div.sk-estimator.fitted:hover .sk-estimator-doc-link.fitted:hover,\n",
       ".sk-estimator-doc-link.fitted:hover,\n",
       "div.sk-label-container:hover .sk-estimator-doc-link.fitted:hover,\n",
       ".sk-estimator-doc-link.fitted:hover {\n",
       "  /* fitted */\n",
       "  background-color: var(--sklearn-color-fitted-level-3);\n",
       "  color: var(--sklearn-color-background);\n",
       "  text-decoration: none;\n",
       "}\n",
       "\n",
       "/* Span, style for the box shown on hovering the info icon */\n",
       ".sk-estimator-doc-link span {\n",
       "  display: none;\n",
       "  z-index: 9999;\n",
       "  position: relative;\n",
       "  font-weight: normal;\n",
       "  right: .2ex;\n",
       "  padding: .5ex;\n",
       "  margin: .5ex;\n",
       "  width: min-content;\n",
       "  min-width: 20ex;\n",
       "  max-width: 50ex;\n",
       "  color: var(--sklearn-color-text);\n",
       "  box-shadow: 2pt 2pt 4pt #999;\n",
       "  /* unfitted */\n",
       "  background: var(--sklearn-color-unfitted-level-0);\n",
       "  border: .5pt solid var(--sklearn-color-unfitted-level-3);\n",
       "}\n",
       "\n",
       ".sk-estimator-doc-link.fitted span {\n",
       "  /* fitted */\n",
       "  background: var(--sklearn-color-fitted-level-0);\n",
       "  border: var(--sklearn-color-fitted-level-3);\n",
       "}\n",
       "\n",
       ".sk-estimator-doc-link:hover span {\n",
       "  display: block;\n",
       "}\n",
       "\n",
       "/* \"?\"-specific style due to the `<a>` HTML tag */\n",
       "\n",
       "#sk-container-id-3 a.estimator_doc_link {\n",
       "  float: right;\n",
       "  font-size: 1rem;\n",
       "  line-height: 1em;\n",
       "  font-family: monospace;\n",
       "  background-color: var(--sklearn-color-background);\n",
       "  border-radius: 1rem;\n",
       "  height: 1rem;\n",
       "  width: 1rem;\n",
       "  text-decoration: none;\n",
       "  /* unfitted */\n",
       "  color: var(--sklearn-color-unfitted-level-1);\n",
       "  border: var(--sklearn-color-unfitted-level-1) 1pt solid;\n",
       "}\n",
       "\n",
       "#sk-container-id-3 a.estimator_doc_link.fitted {\n",
       "  /* fitted */\n",
       "  border: var(--sklearn-color-fitted-level-1) 1pt solid;\n",
       "  color: var(--sklearn-color-fitted-level-1);\n",
       "}\n",
       "\n",
       "/* On hover */\n",
       "#sk-container-id-3 a.estimator_doc_link:hover {\n",
       "  /* unfitted */\n",
       "  background-color: var(--sklearn-color-unfitted-level-3);\n",
       "  color: var(--sklearn-color-background);\n",
       "  text-decoration: none;\n",
       "}\n",
       "\n",
       "#sk-container-id-3 a.estimator_doc_link.fitted:hover {\n",
       "  /* fitted */\n",
       "  background-color: var(--sklearn-color-fitted-level-3);\n",
       "}\n",
       "</style><div id=\"sk-container-id-3\" class=\"sk-top-container\"><div class=\"sk-text-repr-fallback\"><pre>RandomForestClassifier(min_samples_split=3, n_estimators=309)</pre><b>In a Jupyter environment, please rerun this cell to show the HTML representation or trust the notebook. <br />On GitHub, the HTML representation is unable to render, please try loading this page with nbviewer.org.</b></div><div class=\"sk-container\" hidden><div class=\"sk-item\"><div class=\"sk-estimator fitted sk-toggleable\"><input class=\"sk-toggleable__control sk-hidden--visually\" id=\"sk-estimator-id-3\" type=\"checkbox\" checked><label for=\"sk-estimator-id-3\" class=\"sk-toggleable__label fitted sk-toggleable__label-arrow fitted\">&nbsp;&nbsp;RandomForestClassifier<a class=\"sk-estimator-doc-link fitted\" rel=\"noreferrer\" target=\"_blank\" href=\"https://scikit-learn.org/1.5/modules/generated/sklearn.ensemble.RandomForestClassifier.html\">?<span>Documentation for RandomForestClassifier</span></a><span class=\"sk-estimator-doc-link fitted\">i<span>Fitted</span></span></label><div class=\"sk-toggleable__content fitted\"><pre>RandomForestClassifier(min_samples_split=3, n_estimators=309)</pre></div> </div></div></div></div>"
      ],
      "text/plain": [
       "RandomForestClassifier(min_samples_split=3, n_estimators=309)"
      ]
     },
     "execution_count": 117,
     "metadata": {},
     "output_type": "execute_result"
    }
   ],
   "source": [
    "best_model = RandomForestClassifier(**best_params)\n",
    "best_model.fit(x_train_scaled, y_train)"
   ]
  },
  {
   "cell_type": "code",
   "execution_count": 50,
   "id": "a6249d66-8136-49ae-b87b-186ffa3dd149",
   "metadata": {},
   "outputs": [
    {
     "name": "stdout",
     "output_type": "stream",
     "text": [
      "{'bootstrap': True, 'ccp_alpha': 0.0, 'class_weight': None, 'criterion': 'gini', 'max_depth': None, 'max_features': 'log2', 'max_leaf_nodes': None, 'max_samples': None, 'min_impurity_decrease': 0.0, 'min_samples_leaf': 10, 'min_samples_split': 6, 'min_weight_fraction_leaf': 0.0, 'monotonic_cst': None, 'n_estimators': 334, 'n_jobs': None, 'oob_score': False, 'random_state': None, 'verbose': 0, 'warm_start': False}\n"
     ]
    }
   ],
   "source": [
    "print(best_model.get_params())"
   ]
  },
  {
   "cell_type": "markdown",
   "id": "4b0a02ff-ce26-44f6-9582-5ed878ade452",
   "metadata": {},
   "source": [
    "จากการสร้างโมเดล Random Forest โดยใช้ Bayesian optimization ในการคัดเลือกไฮเปอร์พารามิเตอร์ที่เหมาะสมมากที่สุด พบว่ามีไฮเปอร์พารามิเตอร์ที่อยู่ในโมเดล Random Forest ได้แก่ n_estimators มีค่าเท่า 309, max_depth มีค่าเท่ากับ None, min_samples_split มีค่าเท่ากับ 6, min_samples_leaf มีค่าเท่ากับ 10, และ max_features มีค่าเท่ากับ log2"
   ]
  },
  {
   "cell_type": "markdown",
   "id": "76eb69c1-1b4a-4062-bdc5-96fac58b5ec7",
   "metadata": {},
   "source": [
    "# 3.) ทดสอบประสิทธิภาพในการทำนายค่าของโมเดล Random Forest"
   ]
  },
  {
   "cell_type": "code",
   "execution_count": 121,
   "id": "461ec5ce-8459-465b-8f43-bda4abc45ed4",
   "metadata": {},
   "outputs": [],
   "source": [
    "predict = best_model.predict(x_test_scaled)"
   ]
  },
  {
   "cell_type": "code",
   "execution_count": 123,
   "id": "69d84925-e0b9-4e91-8a20-a7f1991b688e",
   "metadata": {},
   "outputs": [
    {
     "name": "stdout",
     "output_type": "stream",
     "text": [
      "              precision    recall  f1-score   support\n",
      "\n",
      "           0       0.88      0.85      0.86      3118\n",
      "           1       0.91      0.93      0.92      5110\n",
      "\n",
      "    accuracy                           0.90      8228\n",
      "   macro avg       0.90      0.89      0.89      8228\n",
      "weighted avg       0.90      0.90      0.90      8228\n",
      "\n"
     ]
    }
   ],
   "source": [
    "print(classification_report(y_test,predict))"
   ]
  },
  {
   "cell_type": "markdown",
   "id": "ef3b7b15-47fc-4b19-910f-6344ae503012",
   "metadata": {},
   "source": [
    "จากผลการทดสอบประสิทธิภาพในการทำนายโอกาสการผิดนัดชำระหนี้ของลูกค้าบัตรเครดิตในไต้หวันโดยโมเดล Random Forest พบว่ามีค่า Accuracy เท่ากับ 0.90 หมายความว่าโมเดลมีประสิทธิภาพในการทำนายที่แม่นยำ 90%\n",
    "\n",
    "และถ้าหากวิเคราะห์จากค่า Precision และค่า Recall ของโอกาสที่ลูกค้าจะผิดนัดชำระหนี้บัตรเครดิต และโอกาสที่ลูกค้าจะไม่ผิดนัดชำระหนี้บัตรเครดิต พบว่าโมเดล Random Forest มีความสามารถในการทำนายค่าของกลุ่มลูกค้าที่ไม่ผิดนัดชำระหนี้บัตรเครดิตได้แม่นยำ 88% และมีความสามารถในการ Recall ของกลุ่มลูกค้าที่ไม่ผิดนัดชำระหนี้บัตรเครดิต 85% และมีความสามารถในการทำนายค่าของกลุ่มลูกค้าที่มีการผิดนัดชำระหนี้บัตรเครดิตได้แม่นยำ 91% และมีความสามารถในการ Recall ของกลุ่มลูกค้าที่มีการผิดนัดชำระหนี้บัตรเครดิต 93%"
   ]
  }
 ],
 "metadata": {
  "kernelspec": {
   "display_name": "Python [conda env:base] *",
   "language": "python",
   "name": "conda-base-py"
  },
  "language_info": {
   "codemirror_mode": {
    "name": "ipython",
    "version": 3
   },
   "file_extension": ".py",
   "mimetype": "text/x-python",
   "name": "python",
   "nbconvert_exporter": "python",
   "pygments_lexer": "ipython3",
   "version": "3.12.7"
  }
 },
 "nbformat": 4,
 "nbformat_minor": 5
}
